{
  "nbformat": 4,
  "nbformat_minor": 0,
  "metadata": {
    "colab": {
      "provenance": []
    },
    "kernelspec": {
      "name": "python3",
      "display_name": "Python 3"
    },
    "language_info": {
      "name": "python"
    }
  },
  "cells": [
    {
      "cell_type": "markdown",
      "source": [
        "#Importando DataSet"
      ],
      "metadata": {
        "id": "LD9uEjELHwbm"
      }
    },
    {
      "cell_type": "code",
      "execution_count": 192,
      "metadata": {
        "id": "77Y4e1mlHT_E"
      },
      "outputs": [],
      "source": [
        "import pandas as pd"
      ]
    },
    {
      "cell_type": "code",
      "source": [
        "dados = pd.read_csv(\"dados.csv\")\n",
        "dados.head()"
      ],
      "metadata": {
        "colab": {
          "base_uri": "https://localhost:8080/",
          "height": 0
        },
        "id": "ax6omp0yHkgM",
        "outputId": "8df517bd-5303-4185-a486-42488a9f3ea2"
      },
      "execution_count": 193,
      "outputs": [
        {
          "output_type": "execute_result",
          "data": {
            "text/plain": [
              "   UF  Sexo  Idade  Cor  Anos de Estudo  Renda    Altura\n",
              "0  11     0     23    8              12    800  1.603808\n",
              "1  11     1     23    2              12   1150  1.739790\n",
              "2  11     1     35    8              15    880  1.760444\n",
              "3  11     0     46    2               6   3500  1.783158\n",
              "4  11     1     47    8               9    150  1.690631"
            ],
            "text/html": [
              "\n",
              "  <div id=\"df-b5ccd8ce-bc31-4c12-99b7-da2536f3fbe0\">\n",
              "    <div class=\"colab-df-container\">\n",
              "      <div>\n",
              "<style scoped>\n",
              "    .dataframe tbody tr th:only-of-type {\n",
              "        vertical-align: middle;\n",
              "    }\n",
              "\n",
              "    .dataframe tbody tr th {\n",
              "        vertical-align: top;\n",
              "    }\n",
              "\n",
              "    .dataframe thead th {\n",
              "        text-align: right;\n",
              "    }\n",
              "</style>\n",
              "<table border=\"1\" class=\"dataframe\">\n",
              "  <thead>\n",
              "    <tr style=\"text-align: right;\">\n",
              "      <th></th>\n",
              "      <th>UF</th>\n",
              "      <th>Sexo</th>\n",
              "      <th>Idade</th>\n",
              "      <th>Cor</th>\n",
              "      <th>Anos de Estudo</th>\n",
              "      <th>Renda</th>\n",
              "      <th>Altura</th>\n",
              "    </tr>\n",
              "  </thead>\n",
              "  <tbody>\n",
              "    <tr>\n",
              "      <th>0</th>\n",
              "      <td>11</td>\n",
              "      <td>0</td>\n",
              "      <td>23</td>\n",
              "      <td>8</td>\n",
              "      <td>12</td>\n",
              "      <td>800</td>\n",
              "      <td>1.603808</td>\n",
              "    </tr>\n",
              "    <tr>\n",
              "      <th>1</th>\n",
              "      <td>11</td>\n",
              "      <td>1</td>\n",
              "      <td>23</td>\n",
              "      <td>2</td>\n",
              "      <td>12</td>\n",
              "      <td>1150</td>\n",
              "      <td>1.739790</td>\n",
              "    </tr>\n",
              "    <tr>\n",
              "      <th>2</th>\n",
              "      <td>11</td>\n",
              "      <td>1</td>\n",
              "      <td>35</td>\n",
              "      <td>8</td>\n",
              "      <td>15</td>\n",
              "      <td>880</td>\n",
              "      <td>1.760444</td>\n",
              "    </tr>\n",
              "    <tr>\n",
              "      <th>3</th>\n",
              "      <td>11</td>\n",
              "      <td>0</td>\n",
              "      <td>46</td>\n",
              "      <td>2</td>\n",
              "      <td>6</td>\n",
              "      <td>3500</td>\n",
              "      <td>1.783158</td>\n",
              "    </tr>\n",
              "    <tr>\n",
              "      <th>4</th>\n",
              "      <td>11</td>\n",
              "      <td>1</td>\n",
              "      <td>47</td>\n",
              "      <td>8</td>\n",
              "      <td>9</td>\n",
              "      <td>150</td>\n",
              "      <td>1.690631</td>\n",
              "    </tr>\n",
              "  </tbody>\n",
              "</table>\n",
              "</div>\n",
              "      <button class=\"colab-df-convert\" onclick=\"convertToInteractive('df-b5ccd8ce-bc31-4c12-99b7-da2536f3fbe0')\"\n",
              "              title=\"Convert this dataframe to an interactive table.\"\n",
              "              style=\"display:none;\">\n",
              "        \n",
              "  <svg xmlns=\"http://www.w3.org/2000/svg\" height=\"24px\"viewBox=\"0 0 24 24\"\n",
              "       width=\"24px\">\n",
              "    <path d=\"M0 0h24v24H0V0z\" fill=\"none\"/>\n",
              "    <path d=\"M18.56 5.44l.94 2.06.94-2.06 2.06-.94-2.06-.94-.94-2.06-.94 2.06-2.06.94zm-11 1L8.5 8.5l.94-2.06 2.06-.94-2.06-.94L8.5 2.5l-.94 2.06-2.06.94zm10 10l.94 2.06.94-2.06 2.06-.94-2.06-.94-.94-2.06-.94 2.06-2.06.94z\"/><path d=\"M17.41 7.96l-1.37-1.37c-.4-.4-.92-.59-1.43-.59-.52 0-1.04.2-1.43.59L10.3 9.45l-7.72 7.72c-.78.78-.78 2.05 0 2.83L4 21.41c.39.39.9.59 1.41.59.51 0 1.02-.2 1.41-.59l7.78-7.78 2.81-2.81c.8-.78.8-2.07 0-2.86zM5.41 20L4 18.59l7.72-7.72 1.47 1.35L5.41 20z\"/>\n",
              "  </svg>\n",
              "      </button>\n",
              "      \n",
              "  <style>\n",
              "    .colab-df-container {\n",
              "      display:flex;\n",
              "      flex-wrap:wrap;\n",
              "      gap: 12px;\n",
              "    }\n",
              "\n",
              "    .colab-df-convert {\n",
              "      background-color: #E8F0FE;\n",
              "      border: none;\n",
              "      border-radius: 50%;\n",
              "      cursor: pointer;\n",
              "      display: none;\n",
              "      fill: #1967D2;\n",
              "      height: 32px;\n",
              "      padding: 0 0 0 0;\n",
              "      width: 32px;\n",
              "    }\n",
              "\n",
              "    .colab-df-convert:hover {\n",
              "      background-color: #E2EBFA;\n",
              "      box-shadow: 0px 1px 2px rgba(60, 64, 67, 0.3), 0px 1px 3px 1px rgba(60, 64, 67, 0.15);\n",
              "      fill: #174EA6;\n",
              "    }\n",
              "\n",
              "    [theme=dark] .colab-df-convert {\n",
              "      background-color: #3B4455;\n",
              "      fill: #D2E3FC;\n",
              "    }\n",
              "\n",
              "    [theme=dark] .colab-df-convert:hover {\n",
              "      background-color: #434B5C;\n",
              "      box-shadow: 0px 1px 3px 1px rgba(0, 0, 0, 0.15);\n",
              "      filter: drop-shadow(0px 1px 2px rgba(0, 0, 0, 0.3));\n",
              "      fill: #FFFFFF;\n",
              "    }\n",
              "  </style>\n",
              "\n",
              "      <script>\n",
              "        const buttonEl =\n",
              "          document.querySelector('#df-b5ccd8ce-bc31-4c12-99b7-da2536f3fbe0 button.colab-df-convert');\n",
              "        buttonEl.style.display =\n",
              "          google.colab.kernel.accessAllowed ? 'block' : 'none';\n",
              "\n",
              "        async function convertToInteractive(key) {\n",
              "          const element = document.querySelector('#df-b5ccd8ce-bc31-4c12-99b7-da2536f3fbe0');\n",
              "          const dataTable =\n",
              "            await google.colab.kernel.invokeFunction('convertToInteractive',\n",
              "                                                     [key], {});\n",
              "          if (!dataTable) return;\n",
              "\n",
              "          const docLinkHtml = 'Like what you see? Visit the ' +\n",
              "            '<a target=\"_blank\" href=https://colab.research.google.com/notebooks/data_table.ipynb>data table notebook</a>'\n",
              "            + ' to learn more about interactive tables.';\n",
              "          element.innerHTML = '';\n",
              "          dataTable['output_type'] = 'display_data';\n",
              "          await google.colab.output.renderOutput(dataTable, element);\n",
              "          const docLink = document.createElement('div');\n",
              "          docLink.innerHTML = docLinkHtml;\n",
              "          element.appendChild(docLink);\n",
              "        }\n",
              "      </script>\n",
              "    </div>\n",
              "  </div>\n",
              "  "
            ]
          },
          "metadata": {},
          "execution_count": 193
        }
      ]
    },
    {
      "cell_type": "markdown",
      "source": [
        "#Distribuições de Probabilidade"
      ],
      "metadata": {
        "id": "OkWstifwH2CT"
      }
    },
    {
      "cell_type": "markdown",
      "source": [
        "##Distribuição Binomial"
      ],
      "metadata": {
        "id": "SOQdqOd0KvD6"
      }
    },
    {
      "cell_type": "code",
      "source": [
        "from scipy.special import comb"
      ],
      "metadata": {
        "id": "A4xOuXb6H1V2"
      },
      "execution_count": 194,
      "outputs": []
    },
    {
      "cell_type": "markdown",
      "source": [
        "60 números na Mega e pode escolher 6. Quantas combinações possíveis e qual a chance de ganhar fazendo 1 jogo?"
      ],
      "metadata": {
        "id": "zk_9orJFM8An"
      }
    },
    {
      "cell_type": "code",
      "source": [
        "combinacoes = comb(60, 6)\n",
        "combinacoes"
      ],
      "metadata": {
        "colab": {
          "base_uri": "https://localhost:8080/"
        },
        "id": "PaaxrUUaH5-u",
        "outputId": "ef56121b-6363-48c5-b995-9685c5462d25"
      },
      "execution_count": 195,
      "outputs": [
        {
          "output_type": "execute_result",
          "data": {
            "text/plain": [
              "50063860.0"
            ]
          },
          "metadata": {},
          "execution_count": 195
        }
      ]
    },
    {
      "cell_type": "code",
      "source": [
        "probabilidade = 1 / combinacoes\n",
        "print('%0.15f' % probabilidade)"
      ],
      "metadata": {
        "colab": {
          "base_uri": "https://localhost:8080/"
        },
        "id": "7YTo8HS_H6Go",
        "outputId": "5cf1702a-f137-4b43-efa4-f5336b5dad3d"
      },
      "execution_count": 196,
      "outputs": [
        {
          "output_type": "stream",
          "name": "stdout",
          "text": [
            "0.000000019974489\n"
          ]
        }
      ]
    },
    {
      "cell_type": "markdown",
      "source": [
        "Em um concurso para preencher uma vaga de cientista de dados temos um total de 10\n",
        "questões de múltipla escolha com 3 alternativas possíveis em cada questão. Cada\n",
        "questão tem o mesmo valor. Suponha que um candidato resolva se aventurar sem ter\n",
        "estudado absolutamente nada. Ele resolve fazer a prova de olhos vendados e chutar todas\n",
        "as resposta. Assumindo que a prova vale 10 pontos e a nota de corte seja 5, obtenha a\n",
        "probabilidade deste candidato acertar 5 questões e também a probabilidade deste\n",
        "candidato passar para a próxima etapa do processo seletivo."
      ],
      "metadata": {
        "id": "0MSYTIbqNFkC"
      }
    },
    {
      "cell_type": "markdown",
      "source": [
        "Número de ensaios"
      ],
      "metadata": {
        "id": "X8pQ5HusPwj4"
      }
    },
    {
      "cell_type": "code",
      "source": [
        "n = 10 #ensaios"
      ],
      "metadata": {
        "id": "7WUZseN5H7nJ"
      },
      "execution_count": 197,
      "outputs": []
    },
    {
      "cell_type": "markdown",
      "source": [
        "Probabilidade de sucesso"
      ],
      "metadata": {
        "id": "SDyMcNJBP0BS"
      }
    },
    {
      "cell_type": "code",
      "source": [
        "p = 1/3\n",
        "p"
      ],
      "metadata": {
        "colab": {
          "base_uri": "https://localhost:8080/"
        },
        "id": "N1M5U5a-H7wF",
        "outputId": "16031181-5484-4812-8d17-9f39f085a0e9"
      },
      "execution_count": 198,
      "outputs": [
        {
          "output_type": "execute_result",
          "data": {
            "text/plain": [
              "0.3333333333333333"
            ]
          },
          "metadata": {},
          "execution_count": 198
        }
      ]
    },
    {
      "cell_type": "markdown",
      "source": [
        "Probabilidade de fracasso"
      ],
      "metadata": {
        "id": "QrPJ58FCP2w9"
      }
    },
    {
      "cell_type": "code",
      "source": [
        "q = 1 - p\n",
        "q"
      ],
      "metadata": {
        "colab": {
          "base_uri": "https://localhost:8080/"
        },
        "id": "G4XntFVgH74b",
        "outputId": "78f0a056-f973-47e3-ded9-b7e0727656ab"
      },
      "execution_count": 199,
      "outputs": [
        {
          "output_type": "execute_result",
          "data": {
            "text/plain": [
              "0.6666666666666667"
            ]
          },
          "metadata": {},
          "execution_count": 199
        }
      ]
    },
    {
      "cell_type": "markdown",
      "source": [
        "Total de eventos que se deseja sucesso"
      ],
      "metadata": {
        "id": "0KUq-Qa7g8EQ"
      }
    },
    {
      "cell_type": "code",
      "source": [
        "k = 5\n",
        "k"
      ],
      "metadata": {
        "id": "RBUpoNKvH8Al",
        "colab": {
          "base_uri": "https://localhost:8080/"
        },
        "outputId": "0af2aeed-3c88-4820-80dd-8280838a2e43"
      },
      "execution_count": 200,
      "outputs": [
        {
          "output_type": "execute_result",
          "data": {
            "text/plain": [
              "5"
            ]
          },
          "metadata": {},
          "execution_count": 200
        }
      ]
    },
    {
      "cell_type": "markdown",
      "source": [
        "Solução"
      ],
      "metadata": {
        "id": "CHFAj_bMhI35"
      }
    },
    {
      "cell_type": "code",
      "source": [
        "prob = comb(n, k) * (p**k) * (q ** (n-k))\n",
        "prob"
      ],
      "metadata": {
        "colab": {
          "base_uri": "https://localhost:8080/"
        },
        "id": "fXRl6kbhhIRv",
        "outputId": "4b5fab0c-b5f7-4b2e-bee9-85ff7090bca8"
      },
      "execution_count": 201,
      "outputs": [
        {
          "output_type": "execute_result",
          "data": {
            "text/plain": [
              "0.13656454808718185"
            ]
          },
          "metadata": {},
          "execution_count": 201
        }
      ]
    },
    {
      "cell_type": "code",
      "source": [
        "from scipy.stats import binom\n",
        "\n",
        "prob = binom.pmf(k, n, p)\n",
        "prob"
      ],
      "metadata": {
        "colab": {
          "base_uri": "https://localhost:8080/"
        },
        "id": "vGISoGdnhZho",
        "outputId": "b5c42409-8d49-49c5-9b6b-dcc183b09ef0"
      },
      "execution_count": 202,
      "outputs": [
        {
          "output_type": "execute_result",
          "data": {
            "text/plain": [
              "0.1365645480871816"
            ]
          },
          "metadata": {},
          "execution_count": 202
        }
      ]
    },
    {
      "cell_type": "markdown",
      "source": [
        "Chance do candidato passar"
      ],
      "metadata": {
        "id": "ACmGfX6ahosS"
      }
    },
    {
      "cell_type": "code",
      "source": [
        "prob_passar = binom.pmf([5, 6, 7, 8, 9, 10], n, p).sum()\n",
        "prob_passar"
      ],
      "metadata": {
        "colab": {
          "base_uri": "https://localhost:8080/"
        },
        "id": "CM_TINdZhqyY",
        "outputId": "c2dc9e4b-ebcd-40ca-ce0c-2ad4de979b2d"
      },
      "execution_count": 203,
      "outputs": [
        {
          "output_type": "execute_result",
          "data": {
            "text/plain": [
              "0.21312808006909492"
            ]
          },
          "metadata": {},
          "execution_count": 203
        }
      ]
    },
    {
      "cell_type": "code",
      "source": [
        "prob_passar = 1 - binom.cdf(4, n, p)\n",
        "prob_passar"
      ],
      "metadata": {
        "colab": {
          "base_uri": "https://localhost:8080/"
        },
        "id": "yXznuhTaiC1H",
        "outputId": "072bcb9d-5682-4f6a-a149-dc76d4224ab0"
      },
      "execution_count": 204,
      "outputs": [
        {
          "output_type": "execute_result",
          "data": {
            "text/plain": [
              "0.21312808006909523"
            ]
          },
          "metadata": {},
          "execution_count": 204
        }
      ]
    },
    {
      "cell_type": "code",
      "source": [
        "prob_passar = binom.sf(4, n, p)\n",
        "prob_passar"
      ],
      "metadata": {
        "colab": {
          "base_uri": "https://localhost:8080/"
        },
        "id": "Ss8q9EDAiRHw",
        "outputId": "63ae478a-401d-4ceb-9b3d-9ab2aac64d59"
      },
      "execution_count": 205,
      "outputs": [
        {
          "output_type": "execute_result",
          "data": {
            "text/plain": [
              "0.21312808006909525"
            ]
          },
          "metadata": {},
          "execution_count": 205
        }
      ]
    },
    {
      "cell_type": "markdown",
      "source": [
        "Uma cidade do interior realiza todos os anos uma gincana para arrecadar fundos para o\n",
        "hospital da cidade. Na última gincana se sabe que a proporção de participantes do sexo\n",
        "feminino foi de 60%. O total de equipes, com 12 integrantes, inscritas na gincana\n",
        "deste ano é de 30. Com as informações acima responda: Quantas equipes deverão ser\n",
        "formadas por 8 mulheres?"
      ],
      "metadata": {
        "id": "ardpBIExlG22"
      }
    },
    {
      "cell_type": "code",
      "source": [
        "p = 0.6"
      ],
      "metadata": {
        "id": "HTnmfL_SlHjI"
      },
      "execution_count": 206,
      "outputs": []
    },
    {
      "cell_type": "code",
      "source": [
        "n = 12"
      ],
      "metadata": {
        "id": "aIjJ8J3rm3Zl"
      },
      "execution_count": 207,
      "outputs": []
    },
    {
      "cell_type": "code",
      "source": [
        "k = 8 "
      ],
      "metadata": {
        "id": "nE4Xsom8m4jO"
      },
      "execution_count": 208,
      "outputs": []
    },
    {
      "cell_type": "code",
      "source": [
        "prob = binom.pmf(k, n, p)\n",
        "prob"
      ],
      "metadata": {
        "colab": {
          "base_uri": "https://localhost:8080/"
        },
        "id": "svI3daRCm6GS",
        "outputId": "4b50b90e-aa8a-408e-9e12-bceb6789dee4"
      },
      "execution_count": 209,
      "outputs": [
        {
          "output_type": "execute_result",
          "data": {
            "text/plain": [
              "0.21284093952"
            ]
          },
          "metadata": {},
          "execution_count": 209
        }
      ]
    },
    {
      "cell_type": "code",
      "source": [
        "media = 30 * prob\n",
        "media"
      ],
      "metadata": {
        "colab": {
          "base_uri": "https://localhost:8080/"
        },
        "id": "R0iVHcaYnTNo",
        "outputId": "8a94d313-c876-45fe-89ef-724c6270c7e2"
      },
      "execution_count": 210,
      "outputs": [
        {
          "output_type": "execute_result",
          "data": {
            "text/plain": [
              "6.3852281856"
            ]
          },
          "metadata": {},
          "execution_count": 210
        }
      ]
    },
    {
      "cell_type": "markdown",
      "source": [
        "##Distribuição de Poisson"
      ],
      "metadata": {
        "id": "UZ3l3As7oKvm"
      }
    },
    {
      "cell_type": "markdown",
      "source": [
        "Um restaurante recebe em média 20 pedidos por hora. Qual a chance de que, em\n",
        "determinada hora escolhida ao acaso, o restaurante receba 15 pedidos?"
      ],
      "metadata": {
        "id": "K1pbEo1yow5X"
      }
    },
    {
      "cell_type": "code",
      "source": [
        "import numpy as np\n",
        "np.e"
      ],
      "metadata": {
        "colab": {
          "base_uri": "https://localhost:8080/"
        },
        "id": "V-9wRkoVoJIr",
        "outputId": "7c2d88a7-fb91-453d-fc5e-ff3786dfdcc0"
      },
      "execution_count": 211,
      "outputs": [
        {
          "output_type": "execute_result",
          "data": {
            "text/plain": [
              "2.718281828459045"
            ]
          },
          "metadata": {},
          "execution_count": 211
        }
      ]
    },
    {
      "cell_type": "code",
      "source": [
        "media = 20"
      ],
      "metadata": {
        "id": "GCnu1SGSqE7d"
      },
      "execution_count": 212,
      "outputs": []
    },
    {
      "cell_type": "code",
      "source": [
        "k = 15"
      ],
      "metadata": {
        "id": "VDKQjBPaqPyh"
      },
      "execution_count": 213,
      "outputs": []
    },
    {
      "cell_type": "code",
      "source": [
        "prob = np.e ** (media * -1) * (media ** k) / (np.math.factorial(k))\n",
        "prob"
      ],
      "metadata": {
        "colab": {
          "base_uri": "https://localhost:8080/"
        },
        "id": "h7eSAiI7qR1W",
        "outputId": "62f96946-3e93-4076-c4ef-8c35ffa398ac"
      },
      "execution_count": 214,
      "outputs": [
        {
          "output_type": "execute_result",
          "data": {
            "text/plain": [
              "0.0516488535317584"
            ]
          },
          "metadata": {},
          "execution_count": 214
        }
      ]
    },
    {
      "cell_type": "code",
      "source": [
        "from scipy.stats import poisson\n",
        "\n",
        "prob = poisson.pmf(k, media)\n",
        "prob"
      ],
      "metadata": {
        "id": "RnCE4DEKqzIE",
        "outputId": "8b3833f3-3422-47b3-d9dd-c80a10ba2f09",
        "colab": {
          "base_uri": "https://localhost:8080/"
        }
      },
      "execution_count": 215,
      "outputs": [
        {
          "output_type": "execute_result",
          "data": {
            "text/plain": [
              "0.05164885353175814"
            ]
          },
          "metadata": {},
          "execution_count": 215
        }
      ]
    },
    {
      "cell_type": "markdown",
      "source": [
        "##Distribuição Normal"
      ],
      "metadata": {
        "id": "mZLXsyrmecoY"
      }
    },
    {
      "cell_type": "markdown",
      "source": [
        "Tabela de padronizações"
      ],
      "metadata": {
        "id": "pVSgR4PohKgX"
      }
    },
    {
      "cell_type": "code",
      "source": [
        "import pandas as pd\n",
        "import numpy as np\n",
        "from scipy.stats import norm\n",
        "tabela_normal_padronizada = pd.DataFrame(\n",
        " [],\n",
        " index=[\"{0:0.2f}\".format(i / 100) for i in range(0, 400, 10)],\n",
        " columns = [\"{0:0.2f}\".format(i / 100) for i in range(0, 10)])\n",
        "for index in tabela_normal_padronizada.index:\n",
        " for column in tabela_normal_padronizada.columns:\n",
        "  Z = np.round(float(index) + float(column), 2)\n",
        "  tabela_normal_padronizada.loc[index, column] = \"{0:0.4f}\".format(norm.cdf(Z))\n",
        "\n",
        "\n",
        "tabela_normal_padronizada.rename_axis('Z', axis = 'columns', inplace =\n",
        "True)\n",
        "tabela_normal_padronizada.head()"
      ],
      "metadata": {
        "colab": {
          "base_uri": "https://localhost:8080/",
          "height": 0
        },
        "id": "UJA3pzGihMiY",
        "outputId": "1c766a8d-c530-4121-d0a0-2d09d8f6865e"
      },
      "execution_count": 216,
      "outputs": [
        {
          "output_type": "execute_result",
          "data": {
            "text/plain": [
              "Z       0.00    0.01    0.02    0.03    0.04    0.05    0.06    0.07    0.08  \\\n",
              "0.00  0.5000  0.5040  0.5080  0.5120  0.5160  0.5199  0.5239  0.5279  0.5319   \n",
              "0.10  0.5398  0.5438  0.5478  0.5517  0.5557  0.5596  0.5636  0.5675  0.5714   \n",
              "0.20  0.5793  0.5832  0.5871  0.5910  0.5948  0.5987  0.6026  0.6064  0.6103   \n",
              "0.30  0.6179  0.6217  0.6255  0.6293  0.6331  0.6368  0.6406  0.6443  0.6480   \n",
              "0.40  0.6554  0.6591  0.6628  0.6664  0.6700  0.6736  0.6772  0.6808  0.6844   \n",
              "\n",
              "Z       0.09  \n",
              "0.00  0.5359  \n",
              "0.10  0.5753  \n",
              "0.20  0.6141  \n",
              "0.30  0.6517  \n",
              "0.40  0.6879  "
            ],
            "text/html": [
              "\n",
              "  <div id=\"df-b54bf7c0-99ee-41dc-a76a-ebd0129d111d\">\n",
              "    <div class=\"colab-df-container\">\n",
              "      <div>\n",
              "<style scoped>\n",
              "    .dataframe tbody tr th:only-of-type {\n",
              "        vertical-align: middle;\n",
              "    }\n",
              "\n",
              "    .dataframe tbody tr th {\n",
              "        vertical-align: top;\n",
              "    }\n",
              "\n",
              "    .dataframe thead th {\n",
              "        text-align: right;\n",
              "    }\n",
              "</style>\n",
              "<table border=\"1\" class=\"dataframe\">\n",
              "  <thead>\n",
              "    <tr style=\"text-align: right;\">\n",
              "      <th>Z</th>\n",
              "      <th>0.00</th>\n",
              "      <th>0.01</th>\n",
              "      <th>0.02</th>\n",
              "      <th>0.03</th>\n",
              "      <th>0.04</th>\n",
              "      <th>0.05</th>\n",
              "      <th>0.06</th>\n",
              "      <th>0.07</th>\n",
              "      <th>0.08</th>\n",
              "      <th>0.09</th>\n",
              "    </tr>\n",
              "  </thead>\n",
              "  <tbody>\n",
              "    <tr>\n",
              "      <th>0.00</th>\n",
              "      <td>0.5000</td>\n",
              "      <td>0.5040</td>\n",
              "      <td>0.5080</td>\n",
              "      <td>0.5120</td>\n",
              "      <td>0.5160</td>\n",
              "      <td>0.5199</td>\n",
              "      <td>0.5239</td>\n",
              "      <td>0.5279</td>\n",
              "      <td>0.5319</td>\n",
              "      <td>0.5359</td>\n",
              "    </tr>\n",
              "    <tr>\n",
              "      <th>0.10</th>\n",
              "      <td>0.5398</td>\n",
              "      <td>0.5438</td>\n",
              "      <td>0.5478</td>\n",
              "      <td>0.5517</td>\n",
              "      <td>0.5557</td>\n",
              "      <td>0.5596</td>\n",
              "      <td>0.5636</td>\n",
              "      <td>0.5675</td>\n",
              "      <td>0.5714</td>\n",
              "      <td>0.5753</td>\n",
              "    </tr>\n",
              "    <tr>\n",
              "      <th>0.20</th>\n",
              "      <td>0.5793</td>\n",
              "      <td>0.5832</td>\n",
              "      <td>0.5871</td>\n",
              "      <td>0.5910</td>\n",
              "      <td>0.5948</td>\n",
              "      <td>0.5987</td>\n",
              "      <td>0.6026</td>\n",
              "      <td>0.6064</td>\n",
              "      <td>0.6103</td>\n",
              "      <td>0.6141</td>\n",
              "    </tr>\n",
              "    <tr>\n",
              "      <th>0.30</th>\n",
              "      <td>0.6179</td>\n",
              "      <td>0.6217</td>\n",
              "      <td>0.6255</td>\n",
              "      <td>0.6293</td>\n",
              "      <td>0.6331</td>\n",
              "      <td>0.6368</td>\n",
              "      <td>0.6406</td>\n",
              "      <td>0.6443</td>\n",
              "      <td>0.6480</td>\n",
              "      <td>0.6517</td>\n",
              "    </tr>\n",
              "    <tr>\n",
              "      <th>0.40</th>\n",
              "      <td>0.6554</td>\n",
              "      <td>0.6591</td>\n",
              "      <td>0.6628</td>\n",
              "      <td>0.6664</td>\n",
              "      <td>0.6700</td>\n",
              "      <td>0.6736</td>\n",
              "      <td>0.6772</td>\n",
              "      <td>0.6808</td>\n",
              "      <td>0.6844</td>\n",
              "      <td>0.6879</td>\n",
              "    </tr>\n",
              "  </tbody>\n",
              "</table>\n",
              "</div>\n",
              "      <button class=\"colab-df-convert\" onclick=\"convertToInteractive('df-b54bf7c0-99ee-41dc-a76a-ebd0129d111d')\"\n",
              "              title=\"Convert this dataframe to an interactive table.\"\n",
              "              style=\"display:none;\">\n",
              "        \n",
              "  <svg xmlns=\"http://www.w3.org/2000/svg\" height=\"24px\"viewBox=\"0 0 24 24\"\n",
              "       width=\"24px\">\n",
              "    <path d=\"M0 0h24v24H0V0z\" fill=\"none\"/>\n",
              "    <path d=\"M18.56 5.44l.94 2.06.94-2.06 2.06-.94-2.06-.94-.94-2.06-.94 2.06-2.06.94zm-11 1L8.5 8.5l.94-2.06 2.06-.94-2.06-.94L8.5 2.5l-.94 2.06-2.06.94zm10 10l.94 2.06.94-2.06 2.06-.94-2.06-.94-.94-2.06-.94 2.06-2.06.94z\"/><path d=\"M17.41 7.96l-1.37-1.37c-.4-.4-.92-.59-1.43-.59-.52 0-1.04.2-1.43.59L10.3 9.45l-7.72 7.72c-.78.78-.78 2.05 0 2.83L4 21.41c.39.39.9.59 1.41.59.51 0 1.02-.2 1.41-.59l7.78-7.78 2.81-2.81c.8-.78.8-2.07 0-2.86zM5.41 20L4 18.59l7.72-7.72 1.47 1.35L5.41 20z\"/>\n",
              "  </svg>\n",
              "      </button>\n",
              "      \n",
              "  <style>\n",
              "    .colab-df-container {\n",
              "      display:flex;\n",
              "      flex-wrap:wrap;\n",
              "      gap: 12px;\n",
              "    }\n",
              "\n",
              "    .colab-df-convert {\n",
              "      background-color: #E8F0FE;\n",
              "      border: none;\n",
              "      border-radius: 50%;\n",
              "      cursor: pointer;\n",
              "      display: none;\n",
              "      fill: #1967D2;\n",
              "      height: 32px;\n",
              "      padding: 0 0 0 0;\n",
              "      width: 32px;\n",
              "    }\n",
              "\n",
              "    .colab-df-convert:hover {\n",
              "      background-color: #E2EBFA;\n",
              "      box-shadow: 0px 1px 2px rgba(60, 64, 67, 0.3), 0px 1px 3px 1px rgba(60, 64, 67, 0.15);\n",
              "      fill: #174EA6;\n",
              "    }\n",
              "\n",
              "    [theme=dark] .colab-df-convert {\n",
              "      background-color: #3B4455;\n",
              "      fill: #D2E3FC;\n",
              "    }\n",
              "\n",
              "    [theme=dark] .colab-df-convert:hover {\n",
              "      background-color: #434B5C;\n",
              "      box-shadow: 0px 1px 3px 1px rgba(0, 0, 0, 0.15);\n",
              "      filter: drop-shadow(0px 1px 2px rgba(0, 0, 0, 0.3));\n",
              "      fill: #FFFFFF;\n",
              "    }\n",
              "  </style>\n",
              "\n",
              "      <script>\n",
              "        const buttonEl =\n",
              "          document.querySelector('#df-b54bf7c0-99ee-41dc-a76a-ebd0129d111d button.colab-df-convert');\n",
              "        buttonEl.style.display =\n",
              "          google.colab.kernel.accessAllowed ? 'block' : 'none';\n",
              "\n",
              "        async function convertToInteractive(key) {\n",
              "          const element = document.querySelector('#df-b54bf7c0-99ee-41dc-a76a-ebd0129d111d');\n",
              "          const dataTable =\n",
              "            await google.colab.kernel.invokeFunction('convertToInteractive',\n",
              "                                                     [key], {});\n",
              "          if (!dataTable) return;\n",
              "\n",
              "          const docLinkHtml = 'Like what you see? Visit the ' +\n",
              "            '<a target=\"_blank\" href=https://colab.research.google.com/notebooks/data_table.ipynb>data table notebook</a>'\n",
              "            + ' to learn more about interactive tables.';\n",
              "          element.innerHTML = '';\n",
              "          dataTable['output_type'] = 'display_data';\n",
              "          await google.colab.output.renderOutput(dataTable, element);\n",
              "          const docLink = document.createElement('div');\n",
              "          docLink.innerHTML = docLinkHtml;\n",
              "          element.appendChild(docLink);\n",
              "        }\n",
              "      </script>\n",
              "    </div>\n",
              "  </div>\n",
              "  "
            ]
          },
          "metadata": {},
          "execution_count": 216
        }
      ]
    },
    {
      "cell_type": "markdown",
      "source": [
        "Em um estudo sobre as alturas dos moradores de uma cidade verificou-se que o conjunto\n",
        "de dados segue uma distribuição aproximadamente normal, com média 1,70 e desvio\n",
        "padrão de 0,1. Com estas informações obtenha o seguinte conjunto de probabilidades:\n",
        "- A. probabilidade de uma pessoa, selecionada ao acaso, ter menos de 1,80 metros.\n",
        "- B. probabilidade de uma pessoa, selecionada ao acaso, ter entre 1,60 metros e\n",
        "1,80 metros.\n",
        "- C. probabilidade de uma pessoa, selecionada ao acaso, ter mais de 1,90 metros."
      ],
      "metadata": {
        "id": "n_e_t3wLgaiH"
      }
    },
    {
      "cell_type": "markdown",
      "source": [
        "A:"
      ],
      "metadata": {
        "id": "a_-PttERiIAH"
      }
    },
    {
      "cell_type": "code",
      "source": [
        "media = 1.7"
      ],
      "metadata": {
        "id": "xo8g6gHtegGO"
      },
      "execution_count": 217,
      "outputs": []
    },
    {
      "cell_type": "code",
      "source": [
        "dp = 0.1"
      ],
      "metadata": {
        "id": "0pGEMevUgqFf"
      },
      "execution_count": 218,
      "outputs": []
    },
    {
      "cell_type": "code",
      "source": [
        "z = (1.8 - media) / dp"
      ],
      "metadata": {
        "id": "9pf3VElogqcF"
      },
      "execution_count": 219,
      "outputs": []
    },
    {
      "cell_type": "code",
      "source": [
        "prob = 0.8413\n",
        "prob"
      ],
      "metadata": {
        "colab": {
          "base_uri": "https://localhost:8080/"
        },
        "id": "DK3mMy0DgqiM",
        "outputId": "3ec93840-0628-40b4-db66-13b8c2e61af3"
      },
      "execution_count": 220,
      "outputs": [
        {
          "output_type": "execute_result",
          "data": {
            "text/plain": [
              "0.8413"
            ]
          },
          "metadata": {},
          "execution_count": 220
        }
      ]
    },
    {
      "cell_type": "code",
      "source": [
        "from scipy.stats import norm\n",
        "\n",
        "norm.cdf(z)"
      ],
      "metadata": {
        "colab": {
          "base_uri": "https://localhost:8080/"
        },
        "id": "gFs7bGblgqnW",
        "outputId": "fc0818c9-6661-4d93-8e60-9b4ddbceaa6b"
      },
      "execution_count": 221,
      "outputs": [
        {
          "output_type": "execute_result",
          "data": {
            "text/plain": [
              "0.8413447460685431"
            ]
          },
          "metadata": {},
          "execution_count": 221
        }
      ]
    },
    {
      "cell_type": "markdown",
      "source": [
        "B:"
      ],
      "metadata": {
        "id": "21dgHMbuiJhm"
      }
    },
    {
      "cell_type": "code",
      "source": [
        "a = (1.6 - media) / dp\n",
        "b = (1.8 - media) / dp\n",
        "\n",
        "norm.cdf(b) - norm.cdf(a) "
      ],
      "metadata": {
        "colab": {
          "base_uri": "https://localhost:8080/"
        },
        "id": "xfURjAmsiKfV",
        "outputId": "7e4f80bc-6d12-43d0-e669-7432dfbb9a25"
      },
      "execution_count": 222,
      "outputs": [
        {
          "output_type": "execute_result",
          "data": {
            "text/plain": [
              "0.6826894921370857"
            ]
          },
          "metadata": {},
          "execution_count": 222
        }
      ]
    },
    {
      "cell_type": "markdown",
      "source": [
        "C:"
      ],
      "metadata": {
        "id": "JNH50IReistK"
      }
    },
    {
      "cell_type": "code",
      "source": [
        "a = (1.9 - media) / dp\n",
        "\n",
        "1 - norm.cdf(a) "
      ],
      "metadata": {
        "colab": {
          "base_uri": "https://localhost:8080/"
        },
        "id": "8Wbo39coihYo",
        "outputId": "c2c09632-548b-4cad-ff82-192cba40d932"
      },
      "execution_count": 223,
      "outputs": [
        {
          "output_type": "execute_result",
          "data": {
            "text/plain": [
              "0.02275013194817921"
            ]
          },
          "metadata": {},
          "execution_count": 223
        }
      ]
    },
    {
      "cell_type": "markdown",
      "source": [
        "#Amostragem"
      ],
      "metadata": {
        "id": "VKjvYhdDkKy8"
      }
    },
    {
      "cell_type": "markdown",
      "source": [
        "##Amostragem Aleatória Simples"
      ],
      "metadata": {
        "id": "Zb5KmnLvk2pc"
      }
    },
    {
      "cell_type": "code",
      "source": [
        "dados.shape[0]"
      ],
      "metadata": {
        "colab": {
          "base_uri": "https://localhost:8080/"
        },
        "id": "4MzuoHqbk2Ig",
        "outputId": "926003e1-321a-4395-f823-d2064abced55"
      },
      "execution_count": 224,
      "outputs": [
        {
          "output_type": "execute_result",
          "data": {
            "text/plain": [
              "76840"
            ]
          },
          "metadata": {},
          "execution_count": 224
        }
      ]
    },
    {
      "cell_type": "code",
      "source": [
        "amostra = dados.sample(n = 1000, random_state = 101)"
      ],
      "metadata": {
        "id": "QNEHH_c_lMyA"
      },
      "execution_count": 226,
      "outputs": []
    },
    {
      "cell_type": "code",
      "source": [
        "amostra.shape[0]"
      ],
      "metadata": {
        "colab": {
          "base_uri": "https://localhost:8080/"
        },
        "id": "3OoXzVcJlTEj",
        "outputId": "77d6c413-af9e-4216-f528-b9b0ee33a21c"
      },
      "execution_count": 227,
      "outputs": [
        {
          "output_type": "execute_result",
          "data": {
            "text/plain": [
              "1000"
            ]
          },
          "metadata": {},
          "execution_count": 227
        }
      ]
    },
    {
      "cell_type": "code",
      "source": [
        "dados.Renda.mean()"
      ],
      "metadata": {
        "colab": {
          "base_uri": "https://localhost:8080/"
        },
        "id": "zDCdYOnekJ4t",
        "outputId": "2c277a71-1938-4f01-af25-afef63688ce5"
      },
      "execution_count": 225,
      "outputs": [
        {
          "output_type": "execute_result",
          "data": {
            "text/plain": [
              "2000.3831988547631"
            ]
          },
          "metadata": {},
          "execution_count": 225
        }
      ]
    },
    {
      "cell_type": "code",
      "source": [
        "amostra.Renda.mean()"
      ],
      "metadata": {
        "colab": {
          "base_uri": "https://localhost:8080/"
        },
        "id": "PVKXnFDilVZY",
        "outputId": "22b43676-4a3b-4178-ad6c-4bf5485009a8"
      },
      "execution_count": 228,
      "outputs": [
        {
          "output_type": "execute_result",
          "data": {
            "text/plain": [
              "1998.783"
            ]
          },
          "metadata": {},
          "execution_count": 228
        }
      ]
    },
    {
      "cell_type": "code",
      "source": [
        "dados.Sexo.value_counts(normalize = True)"
      ],
      "metadata": {
        "colab": {
          "base_uri": "https://localhost:8080/"
        },
        "id": "1kAH93ZZlaRc",
        "outputId": "d1878588-5f66-4789-9dfa-7cd689aaec13"
      },
      "execution_count": 229,
      "outputs": [
        {
          "output_type": "execute_result",
          "data": {
            "text/plain": [
              "0    0.692998\n",
              "1    0.307002\n",
              "Name: Sexo, dtype: float64"
            ]
          },
          "metadata": {},
          "execution_count": 229
        }
      ]
    },
    {
      "cell_type": "code",
      "source": [
        "amostra.Sexo.value_counts(normalize = True)"
      ],
      "metadata": {
        "colab": {
          "base_uri": "https://localhost:8080/"
        },
        "id": "emIhfOq6lkDj",
        "outputId": "a05deb4c-674a-48bd-9725-a72831f27c5d"
      },
      "execution_count": 230,
      "outputs": [
        {
          "output_type": "execute_result",
          "data": {
            "text/plain": [
              "0    0.706\n",
              "1    0.294\n",
              "Name: Sexo, dtype: float64"
            ]
          },
          "metadata": {},
          "execution_count": 230
        }
      ]
    },
    {
      "cell_type": "markdown",
      "source": [
        "##Amostragem Estratificada\n",
        "\n",
        "É uma melhoria do processo de amostragem aleatória simples. Neste método é proposta a\n",
        "divisão da população em subgrupos de elementos com características similares, ou seja,\n",
        "grupos mais homogêneos. Com estes subgrupos separados, aplica-se a técnica de\n",
        "amostragem aleatória simples dentro de cada subgrupo individualmente"
      ],
      "metadata": {
        "id": "n9NAc2lal1SQ"
      }
    },
    {
      "cell_type": "markdown",
      "source": [
        "##Amostragem por Conglomerados\n",
        "\n",
        "Também visa melhorar o critério de amostragem aleatória simples. Na amostragem por\n",
        "conglomerados são também criados subgrupos, porém não serão homogêneas como na\n",
        "amostragem estratificada. Na amostragem por conglomerados os subgrupos serão\n",
        "heterogêneos, onde, em seguida, serão aplicadas a amostragem aleatória simples ou\n",
        "estratificada.\n",
        "Um exemplo bastante comum de aplicação deste tipo de técnica é na divisão da população\n",
        "em grupos territoriais, onde os elementos investigados terão características bastante\n",
        "variadas."
      ],
      "metadata": {
        "id": "24R55uqMl4Ih"
      }
    },
    {
      "cell_type": "markdown",
      "source": [
        "#Estimação"
      ],
      "metadata": {
        "id": "RvOYKpV9rq3k"
      }
    },
    {
      "cell_type": "markdown",
      "source": [
        "##Teorema do Limite Central"
      ],
      "metadata": {
        "id": "wkfeRFR7uZx4"
      }
    },
    {
      "cell_type": "markdown",
      "source": [
        "O Teorema do Limite Central afirma que, com o aumento do tamanho da\n",
        "amostra, a distribuição das médias amostrais se aproxima de uma distribuição\n",
        "normal com média igual à média da população e desvio padrão igual ao desvio\n",
        "padrão da variável original dividido pela raiz quadrada do tamanho da amostra.\n",
        "Este fato é assegurado para n maior ou igual a 30."
      ],
      "metadata": {
        "id": "Ka1UbvIHuBHt"
      }
    },
    {
      "cell_type": "markdown",
      "source": [
        "Suponha que os pesos dos sacos de arroz de uma indústria alimentícia se distribuem\n",
        "aproximadamente como uma normal de desvio padrão populacional igual a 150 g.\n",
        "Selecionada uma amostra aleatório de 20 sacos de um lote específico, obteve-se um peso\n",
        "médio de 5.050 g. Construa um intervalo de confiança para a média populacional\n",
        "assumindo um nível de significância de 5%."
      ],
      "metadata": {
        "id": "T5ofRrb4rxn5"
      }
    },
    {
      "cell_type": "code",
      "source": [
        "n = 2000\n",
        "total_de_amostras = 1500"
      ],
      "metadata": {
        "id": "NUWmwxbyruJ9"
      },
      "execution_count": 231,
      "outputs": []
    },
    {
      "cell_type": "code",
      "source": [
        "amostras = pd.DataFrame()\n",
        "amostras"
      ],
      "metadata": {
        "colab": {
          "base_uri": "https://localhost:8080/",
          "height": 49
        },
        "id": "_7zt8aI7sc2W",
        "outputId": "508f56ec-2f1f-457b-a58d-93da37166282"
      },
      "execution_count": 233,
      "outputs": [
        {
          "output_type": "execute_result",
          "data": {
            "text/plain": [
              "Empty DataFrame\n",
              "Columns: []\n",
              "Index: []"
            ],
            "text/html": [
              "\n",
              "  <div id=\"df-c318da3c-f8d5-4fe4-87f8-a91e30b0807b\">\n",
              "    <div class=\"colab-df-container\">\n",
              "      <div>\n",
              "<style scoped>\n",
              "    .dataframe tbody tr th:only-of-type {\n",
              "        vertical-align: middle;\n",
              "    }\n",
              "\n",
              "    .dataframe tbody tr th {\n",
              "        vertical-align: top;\n",
              "    }\n",
              "\n",
              "    .dataframe thead th {\n",
              "        text-align: right;\n",
              "    }\n",
              "</style>\n",
              "<table border=\"1\" class=\"dataframe\">\n",
              "  <thead>\n",
              "    <tr style=\"text-align: right;\">\n",
              "      <th></th>\n",
              "    </tr>\n",
              "  </thead>\n",
              "  <tbody>\n",
              "  </tbody>\n",
              "</table>\n",
              "</div>\n",
              "      <button class=\"colab-df-convert\" onclick=\"convertToInteractive('df-c318da3c-f8d5-4fe4-87f8-a91e30b0807b')\"\n",
              "              title=\"Convert this dataframe to an interactive table.\"\n",
              "              style=\"display:none;\">\n",
              "        \n",
              "  <svg xmlns=\"http://www.w3.org/2000/svg\" height=\"24px\"viewBox=\"0 0 24 24\"\n",
              "       width=\"24px\">\n",
              "    <path d=\"M0 0h24v24H0V0z\" fill=\"none\"/>\n",
              "    <path d=\"M18.56 5.44l.94 2.06.94-2.06 2.06-.94-2.06-.94-.94-2.06-.94 2.06-2.06.94zm-11 1L8.5 8.5l.94-2.06 2.06-.94-2.06-.94L8.5 2.5l-.94 2.06-2.06.94zm10 10l.94 2.06.94-2.06 2.06-.94-2.06-.94-.94-2.06-.94 2.06-2.06.94z\"/><path d=\"M17.41 7.96l-1.37-1.37c-.4-.4-.92-.59-1.43-.59-.52 0-1.04.2-1.43.59L10.3 9.45l-7.72 7.72c-.78.78-.78 2.05 0 2.83L4 21.41c.39.39.9.59 1.41.59.51 0 1.02-.2 1.41-.59l7.78-7.78 2.81-2.81c.8-.78.8-2.07 0-2.86zM5.41 20L4 18.59l7.72-7.72 1.47 1.35L5.41 20z\"/>\n",
              "  </svg>\n",
              "      </button>\n",
              "      \n",
              "  <style>\n",
              "    .colab-df-container {\n",
              "      display:flex;\n",
              "      flex-wrap:wrap;\n",
              "      gap: 12px;\n",
              "    }\n",
              "\n",
              "    .colab-df-convert {\n",
              "      background-color: #E8F0FE;\n",
              "      border: none;\n",
              "      border-radius: 50%;\n",
              "      cursor: pointer;\n",
              "      display: none;\n",
              "      fill: #1967D2;\n",
              "      height: 32px;\n",
              "      padding: 0 0 0 0;\n",
              "      width: 32px;\n",
              "    }\n",
              "\n",
              "    .colab-df-convert:hover {\n",
              "      background-color: #E2EBFA;\n",
              "      box-shadow: 0px 1px 2px rgba(60, 64, 67, 0.3), 0px 1px 3px 1px rgba(60, 64, 67, 0.15);\n",
              "      fill: #174EA6;\n",
              "    }\n",
              "\n",
              "    [theme=dark] .colab-df-convert {\n",
              "      background-color: #3B4455;\n",
              "      fill: #D2E3FC;\n",
              "    }\n",
              "\n",
              "    [theme=dark] .colab-df-convert:hover {\n",
              "      background-color: #434B5C;\n",
              "      box-shadow: 0px 1px 3px 1px rgba(0, 0, 0, 0.15);\n",
              "      filter: drop-shadow(0px 1px 2px rgba(0, 0, 0, 0.3));\n",
              "      fill: #FFFFFF;\n",
              "    }\n",
              "  </style>\n",
              "\n",
              "      <script>\n",
              "        const buttonEl =\n",
              "          document.querySelector('#df-c318da3c-f8d5-4fe4-87f8-a91e30b0807b button.colab-df-convert');\n",
              "        buttonEl.style.display =\n",
              "          google.colab.kernel.accessAllowed ? 'block' : 'none';\n",
              "\n",
              "        async function convertToInteractive(key) {\n",
              "          const element = document.querySelector('#df-c318da3c-f8d5-4fe4-87f8-a91e30b0807b');\n",
              "          const dataTable =\n",
              "            await google.colab.kernel.invokeFunction('convertToInteractive',\n",
              "                                                     [key], {});\n",
              "          if (!dataTable) return;\n",
              "\n",
              "          const docLinkHtml = 'Like what you see? Visit the ' +\n",
              "            '<a target=\"_blank\" href=https://colab.research.google.com/notebooks/data_table.ipynb>data table notebook</a>'\n",
              "            + ' to learn more about interactive tables.';\n",
              "          element.innerHTML = '';\n",
              "          dataTable['output_type'] = 'display_data';\n",
              "          await google.colab.output.renderOutput(dataTable, element);\n",
              "          const docLink = document.createElement('div');\n",
              "          docLink.innerHTML = docLinkHtml;\n",
              "          element.appendChild(docLink);\n",
              "        }\n",
              "      </script>\n",
              "    </div>\n",
              "  </div>\n",
              "  "
            ]
          },
          "metadata": {},
          "execution_count": 233
        }
      ]
    },
    {
      "cell_type": "code",
      "source": [
        "for i in range(total_de_amostras):\n",
        "  _ = dados.Idade.sample(n)\n",
        "  _.index = range(0, len(_))\n",
        "  amostras['Amostra_' + str(i)] = _\n",
        "\n",
        "display(amostras)"
      ],
      "metadata": {
        "colab": {
          "base_uri": "https://localhost:8080/",
          "height": 487
        },
        "id": "8tw68z7Wsc_e",
        "outputId": "295727ef-0389-4ee5-fb5f-bb1275e08993"
      },
      "execution_count": 236,
      "outputs": [
        {
          "output_type": "display_data",
          "data": {
            "text/plain": [
              "      Amostra_0  Amostra_1  Amostra_2  Amostra_3  Amostra_4  Amostra_5  \\\n",
              "0            37         59         34         32         36         43   \n",
              "1            59         59         73         56         43         51   \n",
              "2            33         60         51         24         17         42   \n",
              "3            59         65         42         44         33         41   \n",
              "4            41         59         31         56         55         27   \n",
              "...         ...        ...        ...        ...        ...        ...   \n",
              "1995         51         30         42         55         45         38   \n",
              "1996         48         61         49         67         42         48   \n",
              "1997         53         36         40         33         32         27   \n",
              "1998         33         37         56         58         33         41   \n",
              "1999         33         41         51         69         43         40   \n",
              "\n",
              "      Amostra_6  Amostra_7  Amostra_8  Amostra_9  ...  Amostra_1490  \\\n",
              "0            36         42         38         44  ...            41   \n",
              "1            40         39         36         31  ...            32   \n",
              "2            37         52         46         40  ...            36   \n",
              "3            36         34         25         30  ...            41   \n",
              "4            61         27         59         28  ...            49   \n",
              "...         ...        ...        ...        ...  ...           ...   \n",
              "1995         29         80         23         60  ...            38   \n",
              "1996         27         46         36         37  ...            48   \n",
              "1997         55         54         54         46  ...            33   \n",
              "1998         28         49         21         29  ...            28   \n",
              "1999         37         34         37         40  ...            39   \n",
              "\n",
              "      Amostra_1491  Amostra_1492  Amostra_1493  Amostra_1494  Amostra_1495  \\\n",
              "0               53            51            36            39            35   \n",
              "1               45            36            45            45            27   \n",
              "2               63            42            42            32            55   \n",
              "3               60            45            46            38            43   \n",
              "4               31            53            39            52            28   \n",
              "...            ...           ...           ...           ...           ...   \n",
              "1995            36            42            20            29            49   \n",
              "1996            52            40            38            60            47   \n",
              "1997            70            33            42            27            42   \n",
              "1998            63            27            55            30            37   \n",
              "1999            69            52            48            47            20   \n",
              "\n",
              "      Amostra_1496  Amostra_1497  Amostra_1498  Amostra_1499  \n",
              "0               48            43            30            31  \n",
              "1               47            41            57            26  \n",
              "2               42            39            30            50  \n",
              "3               47            50            26            55  \n",
              "4               58            66            46            49  \n",
              "...            ...           ...           ...           ...  \n",
              "1995            28            57            66            61  \n",
              "1996            59            35            64            40  \n",
              "1997            68            35            51            27  \n",
              "1998            56            31            45            55  \n",
              "1999            31            28            35            38  \n",
              "\n",
              "[2000 rows x 1500 columns]"
            ],
            "text/html": [
              "\n",
              "  <div id=\"df-ab2af3ec-26a5-4293-af10-48a7de4c2f5f\">\n",
              "    <div class=\"colab-df-container\">\n",
              "      <div>\n",
              "<style scoped>\n",
              "    .dataframe tbody tr th:only-of-type {\n",
              "        vertical-align: middle;\n",
              "    }\n",
              "\n",
              "    .dataframe tbody tr th {\n",
              "        vertical-align: top;\n",
              "    }\n",
              "\n",
              "    .dataframe thead th {\n",
              "        text-align: right;\n",
              "    }\n",
              "</style>\n",
              "<table border=\"1\" class=\"dataframe\">\n",
              "  <thead>\n",
              "    <tr style=\"text-align: right;\">\n",
              "      <th></th>\n",
              "      <th>Amostra_0</th>\n",
              "      <th>Amostra_1</th>\n",
              "      <th>Amostra_2</th>\n",
              "      <th>Amostra_3</th>\n",
              "      <th>Amostra_4</th>\n",
              "      <th>Amostra_5</th>\n",
              "      <th>Amostra_6</th>\n",
              "      <th>Amostra_7</th>\n",
              "      <th>Amostra_8</th>\n",
              "      <th>Amostra_9</th>\n",
              "      <th>...</th>\n",
              "      <th>Amostra_1490</th>\n",
              "      <th>Amostra_1491</th>\n",
              "      <th>Amostra_1492</th>\n",
              "      <th>Amostra_1493</th>\n",
              "      <th>Amostra_1494</th>\n",
              "      <th>Amostra_1495</th>\n",
              "      <th>Amostra_1496</th>\n",
              "      <th>Amostra_1497</th>\n",
              "      <th>Amostra_1498</th>\n",
              "      <th>Amostra_1499</th>\n",
              "    </tr>\n",
              "  </thead>\n",
              "  <tbody>\n",
              "    <tr>\n",
              "      <th>0</th>\n",
              "      <td>37</td>\n",
              "      <td>59</td>\n",
              "      <td>34</td>\n",
              "      <td>32</td>\n",
              "      <td>36</td>\n",
              "      <td>43</td>\n",
              "      <td>36</td>\n",
              "      <td>42</td>\n",
              "      <td>38</td>\n",
              "      <td>44</td>\n",
              "      <td>...</td>\n",
              "      <td>41</td>\n",
              "      <td>53</td>\n",
              "      <td>51</td>\n",
              "      <td>36</td>\n",
              "      <td>39</td>\n",
              "      <td>35</td>\n",
              "      <td>48</td>\n",
              "      <td>43</td>\n",
              "      <td>30</td>\n",
              "      <td>31</td>\n",
              "    </tr>\n",
              "    <tr>\n",
              "      <th>1</th>\n",
              "      <td>59</td>\n",
              "      <td>59</td>\n",
              "      <td>73</td>\n",
              "      <td>56</td>\n",
              "      <td>43</td>\n",
              "      <td>51</td>\n",
              "      <td>40</td>\n",
              "      <td>39</td>\n",
              "      <td>36</td>\n",
              "      <td>31</td>\n",
              "      <td>...</td>\n",
              "      <td>32</td>\n",
              "      <td>45</td>\n",
              "      <td>36</td>\n",
              "      <td>45</td>\n",
              "      <td>45</td>\n",
              "      <td>27</td>\n",
              "      <td>47</td>\n",
              "      <td>41</td>\n",
              "      <td>57</td>\n",
              "      <td>26</td>\n",
              "    </tr>\n",
              "    <tr>\n",
              "      <th>2</th>\n",
              "      <td>33</td>\n",
              "      <td>60</td>\n",
              "      <td>51</td>\n",
              "      <td>24</td>\n",
              "      <td>17</td>\n",
              "      <td>42</td>\n",
              "      <td>37</td>\n",
              "      <td>52</td>\n",
              "      <td>46</td>\n",
              "      <td>40</td>\n",
              "      <td>...</td>\n",
              "      <td>36</td>\n",
              "      <td>63</td>\n",
              "      <td>42</td>\n",
              "      <td>42</td>\n",
              "      <td>32</td>\n",
              "      <td>55</td>\n",
              "      <td>42</td>\n",
              "      <td>39</td>\n",
              "      <td>30</td>\n",
              "      <td>50</td>\n",
              "    </tr>\n",
              "    <tr>\n",
              "      <th>3</th>\n",
              "      <td>59</td>\n",
              "      <td>65</td>\n",
              "      <td>42</td>\n",
              "      <td>44</td>\n",
              "      <td>33</td>\n",
              "      <td>41</td>\n",
              "      <td>36</td>\n",
              "      <td>34</td>\n",
              "      <td>25</td>\n",
              "      <td>30</td>\n",
              "      <td>...</td>\n",
              "      <td>41</td>\n",
              "      <td>60</td>\n",
              "      <td>45</td>\n",
              "      <td>46</td>\n",
              "      <td>38</td>\n",
              "      <td>43</td>\n",
              "      <td>47</td>\n",
              "      <td>50</td>\n",
              "      <td>26</td>\n",
              "      <td>55</td>\n",
              "    </tr>\n",
              "    <tr>\n",
              "      <th>4</th>\n",
              "      <td>41</td>\n",
              "      <td>59</td>\n",
              "      <td>31</td>\n",
              "      <td>56</td>\n",
              "      <td>55</td>\n",
              "      <td>27</td>\n",
              "      <td>61</td>\n",
              "      <td>27</td>\n",
              "      <td>59</td>\n",
              "      <td>28</td>\n",
              "      <td>...</td>\n",
              "      <td>49</td>\n",
              "      <td>31</td>\n",
              "      <td>53</td>\n",
              "      <td>39</td>\n",
              "      <td>52</td>\n",
              "      <td>28</td>\n",
              "      <td>58</td>\n",
              "      <td>66</td>\n",
              "      <td>46</td>\n",
              "      <td>49</td>\n",
              "    </tr>\n",
              "    <tr>\n",
              "      <th>...</th>\n",
              "      <td>...</td>\n",
              "      <td>...</td>\n",
              "      <td>...</td>\n",
              "      <td>...</td>\n",
              "      <td>...</td>\n",
              "      <td>...</td>\n",
              "      <td>...</td>\n",
              "      <td>...</td>\n",
              "      <td>...</td>\n",
              "      <td>...</td>\n",
              "      <td>...</td>\n",
              "      <td>...</td>\n",
              "      <td>...</td>\n",
              "      <td>...</td>\n",
              "      <td>...</td>\n",
              "      <td>...</td>\n",
              "      <td>...</td>\n",
              "      <td>...</td>\n",
              "      <td>...</td>\n",
              "      <td>...</td>\n",
              "      <td>...</td>\n",
              "    </tr>\n",
              "    <tr>\n",
              "      <th>1995</th>\n",
              "      <td>51</td>\n",
              "      <td>30</td>\n",
              "      <td>42</td>\n",
              "      <td>55</td>\n",
              "      <td>45</td>\n",
              "      <td>38</td>\n",
              "      <td>29</td>\n",
              "      <td>80</td>\n",
              "      <td>23</td>\n",
              "      <td>60</td>\n",
              "      <td>...</td>\n",
              "      <td>38</td>\n",
              "      <td>36</td>\n",
              "      <td>42</td>\n",
              "      <td>20</td>\n",
              "      <td>29</td>\n",
              "      <td>49</td>\n",
              "      <td>28</td>\n",
              "      <td>57</td>\n",
              "      <td>66</td>\n",
              "      <td>61</td>\n",
              "    </tr>\n",
              "    <tr>\n",
              "      <th>1996</th>\n",
              "      <td>48</td>\n",
              "      <td>61</td>\n",
              "      <td>49</td>\n",
              "      <td>67</td>\n",
              "      <td>42</td>\n",
              "      <td>48</td>\n",
              "      <td>27</td>\n",
              "      <td>46</td>\n",
              "      <td>36</td>\n",
              "      <td>37</td>\n",
              "      <td>...</td>\n",
              "      <td>48</td>\n",
              "      <td>52</td>\n",
              "      <td>40</td>\n",
              "      <td>38</td>\n",
              "      <td>60</td>\n",
              "      <td>47</td>\n",
              "      <td>59</td>\n",
              "      <td>35</td>\n",
              "      <td>64</td>\n",
              "      <td>40</td>\n",
              "    </tr>\n",
              "    <tr>\n",
              "      <th>1997</th>\n",
              "      <td>53</td>\n",
              "      <td>36</td>\n",
              "      <td>40</td>\n",
              "      <td>33</td>\n",
              "      <td>32</td>\n",
              "      <td>27</td>\n",
              "      <td>55</td>\n",
              "      <td>54</td>\n",
              "      <td>54</td>\n",
              "      <td>46</td>\n",
              "      <td>...</td>\n",
              "      <td>33</td>\n",
              "      <td>70</td>\n",
              "      <td>33</td>\n",
              "      <td>42</td>\n",
              "      <td>27</td>\n",
              "      <td>42</td>\n",
              "      <td>68</td>\n",
              "      <td>35</td>\n",
              "      <td>51</td>\n",
              "      <td>27</td>\n",
              "    </tr>\n",
              "    <tr>\n",
              "      <th>1998</th>\n",
              "      <td>33</td>\n",
              "      <td>37</td>\n",
              "      <td>56</td>\n",
              "      <td>58</td>\n",
              "      <td>33</td>\n",
              "      <td>41</td>\n",
              "      <td>28</td>\n",
              "      <td>49</td>\n",
              "      <td>21</td>\n",
              "      <td>29</td>\n",
              "      <td>...</td>\n",
              "      <td>28</td>\n",
              "      <td>63</td>\n",
              "      <td>27</td>\n",
              "      <td>55</td>\n",
              "      <td>30</td>\n",
              "      <td>37</td>\n",
              "      <td>56</td>\n",
              "      <td>31</td>\n",
              "      <td>45</td>\n",
              "      <td>55</td>\n",
              "    </tr>\n",
              "    <tr>\n",
              "      <th>1999</th>\n",
              "      <td>33</td>\n",
              "      <td>41</td>\n",
              "      <td>51</td>\n",
              "      <td>69</td>\n",
              "      <td>43</td>\n",
              "      <td>40</td>\n",
              "      <td>37</td>\n",
              "      <td>34</td>\n",
              "      <td>37</td>\n",
              "      <td>40</td>\n",
              "      <td>...</td>\n",
              "      <td>39</td>\n",
              "      <td>69</td>\n",
              "      <td>52</td>\n",
              "      <td>48</td>\n",
              "      <td>47</td>\n",
              "      <td>20</td>\n",
              "      <td>31</td>\n",
              "      <td>28</td>\n",
              "      <td>35</td>\n",
              "      <td>38</td>\n",
              "    </tr>\n",
              "  </tbody>\n",
              "</table>\n",
              "<p>2000 rows × 1500 columns</p>\n",
              "</div>\n",
              "      <button class=\"colab-df-convert\" onclick=\"convertToInteractive('df-ab2af3ec-26a5-4293-af10-48a7de4c2f5f')\"\n",
              "              title=\"Convert this dataframe to an interactive table.\"\n",
              "              style=\"display:none;\">\n",
              "        \n",
              "  <svg xmlns=\"http://www.w3.org/2000/svg\" height=\"24px\"viewBox=\"0 0 24 24\"\n",
              "       width=\"24px\">\n",
              "    <path d=\"M0 0h24v24H0V0z\" fill=\"none\"/>\n",
              "    <path d=\"M18.56 5.44l.94 2.06.94-2.06 2.06-.94-2.06-.94-.94-2.06-.94 2.06-2.06.94zm-11 1L8.5 8.5l.94-2.06 2.06-.94-2.06-.94L8.5 2.5l-.94 2.06-2.06.94zm10 10l.94 2.06.94-2.06 2.06-.94-2.06-.94-.94-2.06-.94 2.06-2.06.94z\"/><path d=\"M17.41 7.96l-1.37-1.37c-.4-.4-.92-.59-1.43-.59-.52 0-1.04.2-1.43.59L10.3 9.45l-7.72 7.72c-.78.78-.78 2.05 0 2.83L4 21.41c.39.39.9.59 1.41.59.51 0 1.02-.2 1.41-.59l7.78-7.78 2.81-2.81c.8-.78.8-2.07 0-2.86zM5.41 20L4 18.59l7.72-7.72 1.47 1.35L5.41 20z\"/>\n",
              "  </svg>\n",
              "      </button>\n",
              "      \n",
              "  <style>\n",
              "    .colab-df-container {\n",
              "      display:flex;\n",
              "      flex-wrap:wrap;\n",
              "      gap: 12px;\n",
              "    }\n",
              "\n",
              "    .colab-df-convert {\n",
              "      background-color: #E8F0FE;\n",
              "      border: none;\n",
              "      border-radius: 50%;\n",
              "      cursor: pointer;\n",
              "      display: none;\n",
              "      fill: #1967D2;\n",
              "      height: 32px;\n",
              "      padding: 0 0 0 0;\n",
              "      width: 32px;\n",
              "    }\n",
              "\n",
              "    .colab-df-convert:hover {\n",
              "      background-color: #E2EBFA;\n",
              "      box-shadow: 0px 1px 2px rgba(60, 64, 67, 0.3), 0px 1px 3px 1px rgba(60, 64, 67, 0.15);\n",
              "      fill: #174EA6;\n",
              "    }\n",
              "\n",
              "    [theme=dark] .colab-df-convert {\n",
              "      background-color: #3B4455;\n",
              "      fill: #D2E3FC;\n",
              "    }\n",
              "\n",
              "    [theme=dark] .colab-df-convert:hover {\n",
              "      background-color: #434B5C;\n",
              "      box-shadow: 0px 1px 3px 1px rgba(0, 0, 0, 0.15);\n",
              "      filter: drop-shadow(0px 1px 2px rgba(0, 0, 0, 0.3));\n",
              "      fill: #FFFFFF;\n",
              "    }\n",
              "  </style>\n",
              "\n",
              "      <script>\n",
              "        const buttonEl =\n",
              "          document.querySelector('#df-ab2af3ec-26a5-4293-af10-48a7de4c2f5f button.colab-df-convert');\n",
              "        buttonEl.style.display =\n",
              "          google.colab.kernel.accessAllowed ? 'block' : 'none';\n",
              "\n",
              "        async function convertToInteractive(key) {\n",
              "          const element = document.querySelector('#df-ab2af3ec-26a5-4293-af10-48a7de4c2f5f');\n",
              "          const dataTable =\n",
              "            await google.colab.kernel.invokeFunction('convertToInteractive',\n",
              "                                                     [key], {});\n",
              "          if (!dataTable) return;\n",
              "\n",
              "          const docLinkHtml = 'Like what you see? Visit the ' +\n",
              "            '<a target=\"_blank\" href=https://colab.research.google.com/notebooks/data_table.ipynb>data table notebook</a>'\n",
              "            + ' to learn more about interactive tables.';\n",
              "          element.innerHTML = '';\n",
              "          dataTable['output_type'] = 'display_data';\n",
              "          await google.colab.output.renderOutput(dataTable, element);\n",
              "          const docLink = document.createElement('div');\n",
              "          docLink.innerHTML = docLinkHtml;\n",
              "          element.appendChild(docLink);\n",
              "        }\n",
              "      </script>\n",
              "    </div>\n",
              "  </div>\n",
              "  "
            ]
          },
          "metadata": {}
        }
      ]
    },
    {
      "cell_type": "code",
      "source": [
        "amostras.mean()"
      ],
      "metadata": {
        "colab": {
          "base_uri": "https://localhost:8080/"
        },
        "id": "lCWbBDO4tTe0",
        "outputId": "b2d766eb-e74f-47ca-8c61-001ddcd45ae2"
      },
      "execution_count": 237,
      "outputs": [
        {
          "output_type": "execute_result",
          "data": {
            "text/plain": [
              "Amostra_0       44.4225\n",
              "Amostra_1       43.9160\n",
              "Amostra_2       44.2430\n",
              "Amostra_3       44.3935\n",
              "Amostra_4       43.8500\n",
              "                 ...   \n",
              "Amostra_1495    44.0375\n",
              "Amostra_1496    44.2805\n",
              "Amostra_1497    43.9780\n",
              "Amostra_1498    44.3890\n",
              "Amostra_1499    44.3065\n",
              "Length: 1500, dtype: float64"
            ]
          },
          "metadata": {},
          "execution_count": 237
        }
      ]
    },
    {
      "cell_type": "code",
      "source": [
        "amostras.mean().hist()"
      ],
      "metadata": {
        "colab": {
          "base_uri": "https://localhost:8080/",
          "height": 447
        },
        "id": "XibCBx82taFh",
        "outputId": "d68f42a1-328e-4aa0-bb12-28451d6346a7"
      },
      "execution_count": 239,
      "outputs": [
        {
          "output_type": "execute_result",
          "data": {
            "text/plain": [
              "<Axes: >"
            ]
          },
          "metadata": {},
          "execution_count": 239
        },
        {
          "output_type": "display_data",
          "data": {
            "text/plain": [
              "<Figure size 640x480 with 1 Axes>"
            ],
            "image/png": "[encoded data removed]"
          },
          "metadata": {}
        }
      ]
    },
    {
      "cell_type": "code",
      "source": [
        "dados.Idade.mean()"
      ],
      "metadata": {
        "colab": {
          "base_uri": "https://localhost:8080/"
        },
        "id": "sSxBfd6zthAy",
        "outputId": "4f90861b-57f4-47b3-80b4-d1cf0bec6773"
      },
      "execution_count": 240,
      "outputs": [
        {
          "output_type": "execute_result",
          "data": {
            "text/plain": [
              "44.07142113482561"
            ]
          },
          "metadata": {},
          "execution_count": 240
        }
      ]
    },
    {
      "cell_type": "code",
      "source": [
        "amostras.mean().mean()"
      ],
      "metadata": {
        "colab": {
          "base_uri": "https://localhost:8080/"
        },
        "id": "nZzvSke8tjK4",
        "outputId": "7a7851ce-19ec-4e47-d99f-2f7027f3b805"
      },
      "execution_count": 241,
      "outputs": [
        {
          "output_type": "execute_result",
          "data": {
            "text/plain": [
              "44.05374766666667"
            ]
          },
          "metadata": {},
          "execution_count": 241
        }
      ]
    },
    {
      "cell_type": "code",
      "source": [
        "amostras.mean().std()"
      ],
      "metadata": {
        "colab": {
          "base_uri": "https://localhost:8080/"
        },
        "id": "pH8YVUx7tqKF",
        "outputId": "094af7d6-79d4-4fd0-ce06-12eabbdebd71"
      },
      "execution_count": 242,
      "outputs": [
        {
          "output_type": "execute_result",
          "data": {
            "text/plain": [
              "0.2759338298944315"
            ]
          },
          "metadata": {},
          "execution_count": 242
        }
      ]
    },
    {
      "cell_type": "code",
      "source": [
        "dados.Idade.std() / np.sqrt(n)"
      ],
      "metadata": {
        "colab": {
          "base_uri": "https://localhost:8080/"
        },
        "id": "unt1OCb2tvk5",
        "outputId": "7abc4001-2a72-4f46-8c12-14a7023aef5e"
      },
      "execution_count": 243,
      "outputs": [
        {
          "output_type": "execute_result",
          "data": {
            "text/plain": [
              "0.27907433027404266"
            ]
          },
          "metadata": {},
          "execution_count": 243
        }
      ]
    },
    {
      "cell_type": "markdown",
      "source": [
        "##Nível de Confiança e Significância"
      ],
      "metadata": {
        "id": "9oZMMoZ9udKa"
      }
    },
    {
      "cell_type": "markdown",
      "source": [
        "O nível de confiança (1−α) representa a probabilidade de acerto da estimativa. De forma\n",
        "complementar o nível de significância (α) expressa a probabilidade de erro da estimativa.\n",
        "O nível de confiança representa o grau de confiabilidade do resultado da estimativa estar\n",
        "dentro de determinado intervalo. Quando fixamos em uma pesquisa um nível de\n",
        "confiança de 95%, por exemplo, estamos assumindo que existe uma probabilidade de 95%\n",
        "dos resultados da pesquisa representarem bem a realidade, ou seja, estarem corretos."
      ],
      "metadata": {
        "id": "jK6KZ8cYuq3d"
      }
    },
    {
      "cell_type": "markdown",
      "source": [
        "##Erro Inferencial"
      ],
      "metadata": {
        "id": "O9gEejhHwqHK"
      }
    },
    {
      "cell_type": "markdown",
      "source": [
        "O erro inferencial é definido pelo desvio padrão das médias amostrais σ ´x\n",
        " e pelo nível\n",
        "de confiança determinado para o processo."
      ],
      "metadata": {
        "id": "ay3R4sOiwjvD"
      }
    },
    {
      "cell_type": "markdown",
      "source": [
        "##Intervalos de Confiança"
      ],
      "metadata": {
        "id": "M7VpO7VExeWh"
      }
    },
    {
      "cell_type": "markdown",
      "source": [
        "Suponha que os pesos dos sacos de arroz de uma indústria alimentícia se distribuem\n",
        "aproximadamente como uma normal de desvio padrão populacional igual a 150 g.\n",
        "Selecionada uma amostra aleatório de 20 sacos de um lote específico, obteve-se um peso\n",
        "médio de 5.050 g. Construa um intervalo de confiança para a média populacional\n",
        "assumindo um nível de significância de 5%."
      ],
      "metadata": {
        "id": "LvnN4VjmxtKw"
      }
    },
    {
      "cell_type": "code",
      "source": [
        "media_amostral = 5050\n",
        "significancia = 0.05"
      ],
      "metadata": {
        "id": "7m-miX24ujh8"
      },
      "execution_count": 244,
      "outputs": []
    },
    {
      "cell_type": "code",
      "source": [
        "confianca = 1 - significancia\n",
        "confianca"
      ],
      "metadata": {
        "colab": {
          "base_uri": "https://localhost:8080/"
        },
        "id": "UgPVy_r8x2y-",
        "outputId": "55becb48-cdef-47cf-bbe7-6a3e69e3fa23"
      },
      "execution_count": 246,
      "outputs": [
        {
          "output_type": "execute_result",
          "data": {
            "text/plain": [
              "0.95"
            ]
          },
          "metadata": {},
          "execution_count": 246
        }
      ]
    },
    {
      "cell_type": "code",
      "source": [
        "tabela_normal_padronizada[16:26]"
      ],
      "metadata": {
        "colab": {
          "base_uri": "https://localhost:8080/",
          "height": 363
        },
        "id": "muCATeQax7_e",
        "outputId": "dec224dc-5b35-44d2-c748-44fbc5e3b681"
      },
      "execution_count": 247,
      "outputs": [
        {
          "output_type": "execute_result",
          "data": {
            "text/plain": [
              "Z       0.00    0.01    0.02    0.03    0.04    0.05    0.06    0.07    0.08  \\\n",
              "1.60  0.9452  0.9463  0.9474  0.9484  0.9495  0.9505  0.9515  0.9525  0.9535   \n",
              "1.70  0.9554  0.9564  0.9573  0.9582  0.9591  0.9599  0.9608  0.9616  0.9625   \n",
              "1.80  0.9641  0.9649  0.9656  0.9664  0.9671  0.9678  0.9686  0.9693  0.9699   \n",
              "1.90  0.9713  0.9719  0.9726  0.9732  0.9738  0.9744  0.9750  0.9756  0.9761   \n",
              "2.00  0.9772  0.9778  0.9783  0.9788  0.9793  0.9798  0.9803  0.9808  0.9812   \n",
              "2.10  0.9821  0.9826  0.9830  0.9834  0.9838  0.9842  0.9846  0.9850  0.9854   \n",
              "2.20  0.9861  0.9864  0.9868  0.9871  0.9875  0.9878  0.9881  0.9884  0.9887   \n",
              "2.30  0.9893  0.9896  0.9898  0.9901  0.9904  0.9906  0.9909  0.9911  0.9913   \n",
              "2.40  0.9918  0.9920  0.9922  0.9925  0.9927  0.9929  0.9931  0.9932  0.9934   \n",
              "2.50  0.9938  0.9940  0.9941  0.9943  0.9945  0.9946  0.9948  0.9949  0.9951   \n",
              "\n",
              "Z       0.09  \n",
              "1.60  0.9545  \n",
              "1.70  0.9633  \n",
              "1.80  0.9706  \n",
              "1.90  0.9767  \n",
              "2.00  0.9817  \n",
              "2.10  0.9857  \n",
              "2.20  0.9890  \n",
              "2.30  0.9916  \n",
              "2.40  0.9936  \n",
              "2.50  0.9952  "
            ],
            "text/html": [
              "\n",
              "  <div id=\"df-cdd7b7ae-97c2-4c16-a4ff-d0b8bf5bf498\">\n",
              "    <div class=\"colab-df-container\">\n",
              "      <div>\n",
              "<style scoped>\n",
              "    .dataframe tbody tr th:only-of-type {\n",
              "        vertical-align: middle;\n",
              "    }\n",
              "\n",
              "    .dataframe tbody tr th {\n",
              "        vertical-align: top;\n",
              "    }\n",
              "\n",
              "    .dataframe thead th {\n",
              "        text-align: right;\n",
              "    }\n",
              "</style>\n",
              "<table border=\"1\" class=\"dataframe\">\n",
              "  <thead>\n",
              "    <tr style=\"text-align: right;\">\n",
              "      <th>Z</th>\n",
              "      <th>0.00</th>\n",
              "      <th>0.01</th>\n",
              "      <th>0.02</th>\n",
              "      <th>0.03</th>\n",
              "      <th>0.04</th>\n",
              "      <th>0.05</th>\n",
              "      <th>0.06</th>\n",
              "      <th>0.07</th>\n",
              "      <th>0.08</th>\n",
              "      <th>0.09</th>\n",
              "    </tr>\n",
              "  </thead>\n",
              "  <tbody>\n",
              "    <tr>\n",
              "      <th>1.60</th>\n",
              "      <td>0.9452</td>\n",
              "      <td>0.9463</td>\n",
              "      <td>0.9474</td>\n",
              "      <td>0.9484</td>\n",
              "      <td>0.9495</td>\n",
              "      <td>0.9505</td>\n",
              "      <td>0.9515</td>\n",
              "      <td>0.9525</td>\n",
              "      <td>0.9535</td>\n",
              "      <td>0.9545</td>\n",
              "    </tr>\n",
              "    <tr>\n",
              "      <th>1.70</th>\n",
              "      <td>0.9554</td>\n",
              "      <td>0.9564</td>\n",
              "      <td>0.9573</td>\n",
              "      <td>0.9582</td>\n",
              "      <td>0.9591</td>\n",
              "      <td>0.9599</td>\n",
              "      <td>0.9608</td>\n",
              "      <td>0.9616</td>\n",
              "      <td>0.9625</td>\n",
              "      <td>0.9633</td>\n",
              "    </tr>\n",
              "    <tr>\n",
              "      <th>1.80</th>\n",
              "      <td>0.9641</td>\n",
              "      <td>0.9649</td>\n",
              "      <td>0.9656</td>\n",
              "      <td>0.9664</td>\n",
              "      <td>0.9671</td>\n",
              "      <td>0.9678</td>\n",
              "      <td>0.9686</td>\n",
              "      <td>0.9693</td>\n",
              "      <td>0.9699</td>\n",
              "      <td>0.9706</td>\n",
              "    </tr>\n",
              "    <tr>\n",
              "      <th>1.90</th>\n",
              "      <td>0.9713</td>\n",
              "      <td>0.9719</td>\n",
              "      <td>0.9726</td>\n",
              "      <td>0.9732</td>\n",
              "      <td>0.9738</td>\n",
              "      <td>0.9744</td>\n",
              "      <td>0.9750</td>\n",
              "      <td>0.9756</td>\n",
              "      <td>0.9761</td>\n",
              "      <td>0.9767</td>\n",
              "    </tr>\n",
              "    <tr>\n",
              "      <th>2.00</th>\n",
              "      <td>0.9772</td>\n",
              "      <td>0.9778</td>\n",
              "      <td>0.9783</td>\n",
              "      <td>0.9788</td>\n",
              "      <td>0.9793</td>\n",
              "      <td>0.9798</td>\n",
              "      <td>0.9803</td>\n",
              "      <td>0.9808</td>\n",
              "      <td>0.9812</td>\n",
              "      <td>0.9817</td>\n",
              "    </tr>\n",
              "    <tr>\n",
              "      <th>2.10</th>\n",
              "      <td>0.9821</td>\n",
              "      <td>0.9826</td>\n",
              "      <td>0.9830</td>\n",
              "      <td>0.9834</td>\n",
              "      <td>0.9838</td>\n",
              "      <td>0.9842</td>\n",
              "      <td>0.9846</td>\n",
              "      <td>0.9850</td>\n",
              "      <td>0.9854</td>\n",
              "      <td>0.9857</td>\n",
              "    </tr>\n",
              "    <tr>\n",
              "      <th>2.20</th>\n",
              "      <td>0.9861</td>\n",
              "      <td>0.9864</td>\n",
              "      <td>0.9868</td>\n",
              "      <td>0.9871</td>\n",
              "      <td>0.9875</td>\n",
              "      <td>0.9878</td>\n",
              "      <td>0.9881</td>\n",
              "      <td>0.9884</td>\n",
              "      <td>0.9887</td>\n",
              "      <td>0.9890</td>\n",
              "    </tr>\n",
              "    <tr>\n",
              "      <th>2.30</th>\n",
              "      <td>0.9893</td>\n",
              "      <td>0.9896</td>\n",
              "      <td>0.9898</td>\n",
              "      <td>0.9901</td>\n",
              "      <td>0.9904</td>\n",
              "      <td>0.9906</td>\n",
              "      <td>0.9909</td>\n",
              "      <td>0.9911</td>\n",
              "      <td>0.9913</td>\n",
              "      <td>0.9916</td>\n",
              "    </tr>\n",
              "    <tr>\n",
              "      <th>2.40</th>\n",
              "      <td>0.9918</td>\n",
              "      <td>0.9920</td>\n",
              "      <td>0.9922</td>\n",
              "      <td>0.9925</td>\n",
              "      <td>0.9927</td>\n",
              "      <td>0.9929</td>\n",
              "      <td>0.9931</td>\n",
              "      <td>0.9932</td>\n",
              "      <td>0.9934</td>\n",
              "      <td>0.9936</td>\n",
              "    </tr>\n",
              "    <tr>\n",
              "      <th>2.50</th>\n",
              "      <td>0.9938</td>\n",
              "      <td>0.9940</td>\n",
              "      <td>0.9941</td>\n",
              "      <td>0.9943</td>\n",
              "      <td>0.9945</td>\n",
              "      <td>0.9946</td>\n",
              "      <td>0.9948</td>\n",
              "      <td>0.9949</td>\n",
              "      <td>0.9951</td>\n",
              "      <td>0.9952</td>\n",
              "    </tr>\n",
              "  </tbody>\n",
              "</table>\n",
              "</div>\n",
              "      <button class=\"colab-df-convert\" onclick=\"convertToInteractive('df-cdd7b7ae-97c2-4c16-a4ff-d0b8bf5bf498')\"\n",
              "              title=\"Convert this dataframe to an interactive table.\"\n",
              "              style=\"display:none;\">\n",
              "        \n",
              "  <svg xmlns=\"http://www.w3.org/2000/svg\" height=\"24px\"viewBox=\"0 0 24 24\"\n",
              "       width=\"24px\">\n",
              "    <path d=\"M0 0h24v24H0V0z\" fill=\"none\"/>\n",
              "    <path d=\"M18.56 5.44l.94 2.06.94-2.06 2.06-.94-2.06-.94-.94-2.06-.94 2.06-2.06.94zm-11 1L8.5 8.5l.94-2.06 2.06-.94-2.06-.94L8.5 2.5l-.94 2.06-2.06.94zm10 10l.94 2.06.94-2.06 2.06-.94-2.06-.94-.94-2.06-.94 2.06-2.06.94z\"/><path d=\"M17.41 7.96l-1.37-1.37c-.4-.4-.92-.59-1.43-.59-.52 0-1.04.2-1.43.59L10.3 9.45l-7.72 7.72c-.78.78-.78 2.05 0 2.83L4 21.41c.39.39.9.59 1.41.59.51 0 1.02-.2 1.41-.59l7.78-7.78 2.81-2.81c.8-.78.8-2.07 0-2.86zM5.41 20L4 18.59l7.72-7.72 1.47 1.35L5.41 20z\"/>\n",
              "  </svg>\n",
              "      </button>\n",
              "      \n",
              "  <style>\n",
              "    .colab-df-container {\n",
              "      display:flex;\n",
              "      flex-wrap:wrap;\n",
              "      gap: 12px;\n",
              "    }\n",
              "\n",
              "    .colab-df-convert {\n",
              "      background-color: #E8F0FE;\n",
              "      border: none;\n",
              "      border-radius: 50%;\n",
              "      cursor: pointer;\n",
              "      display: none;\n",
              "      fill: #1967D2;\n",
              "      height: 32px;\n",
              "      padding: 0 0 0 0;\n",
              "      width: 32px;\n",
              "    }\n",
              "\n",
              "    .colab-df-convert:hover {\n",
              "      background-color: #E2EBFA;\n",
              "      box-shadow: 0px 1px 2px rgba(60, 64, 67, 0.3), 0px 1px 3px 1px rgba(60, 64, 67, 0.15);\n",
              "      fill: #174EA6;\n",
              "    }\n",
              "\n",
              "    [theme=dark] .colab-df-convert {\n",
              "      background-color: #3B4455;\n",
              "      fill: #D2E3FC;\n",
              "    }\n",
              "\n",
              "    [theme=dark] .colab-df-convert:hover {\n",
              "      background-color: #434B5C;\n",
              "      box-shadow: 0px 1px 3px 1px rgba(0, 0, 0, 0.15);\n",
              "      filter: drop-shadow(0px 1px 2px rgba(0, 0, 0, 0.3));\n",
              "      fill: #FFFFFF;\n",
              "    }\n",
              "  </style>\n",
              "\n",
              "      <script>\n",
              "        const buttonEl =\n",
              "          document.querySelector('#df-cdd7b7ae-97c2-4c16-a4ff-d0b8bf5bf498 button.colab-df-convert');\n",
              "        buttonEl.style.display =\n",
              "          google.colab.kernel.accessAllowed ? 'block' : 'none';\n",
              "\n",
              "        async function convertToInteractive(key) {\n",
              "          const element = document.querySelector('#df-cdd7b7ae-97c2-4c16-a4ff-d0b8bf5bf498');\n",
              "          const dataTable =\n",
              "            await google.colab.kernel.invokeFunction('convertToInteractive',\n",
              "                                                     [key], {});\n",
              "          if (!dataTable) return;\n",
              "\n",
              "          const docLinkHtml = 'Like what you see? Visit the ' +\n",
              "            '<a target=\"_blank\" href=https://colab.research.google.com/notebooks/data_table.ipynb>data table notebook</a>'\n",
              "            + ' to learn more about interactive tables.';\n",
              "          element.innerHTML = '';\n",
              "          dataTable['output_type'] = 'display_data';\n",
              "          await google.colab.output.renderOutput(dataTable, element);\n",
              "          const docLink = document.createElement('div');\n",
              "          docLink.innerHTML = docLinkHtml;\n",
              "          element.appendChild(docLink);\n",
              "        }\n",
              "      </script>\n",
              "    </div>\n",
              "  </div>\n",
              "  "
            ]
          },
          "metadata": {},
          "execution_count": 247
        }
      ]
    },
    {
      "cell_type": "markdown",
      "source": [
        "O Z é 1,96 ao consultar a tabela."
      ],
      "metadata": {
        "id": "kfQBOj2lydhh"
      }
    },
    {
      "cell_type": "code",
      "source": [
        "z = norm.ppf(0.95)\n",
        "z"
      ],
      "metadata": {
        "colab": {
          "base_uri": "https://localhost:8080/"
        },
        "id": "HFL_7tLbyZGD",
        "outputId": "886c8cc9-a81a-4306-b62e-879f26671947"
      },
      "execution_count": 260,
      "outputs": [
        {
          "output_type": "execute_result",
          "data": {
            "text/plain": [
              "1.6448536269514722"
            ]
          },
          "metadata": {},
          "execution_count": 260
        }
      ]
    },
    {
      "cell_type": "code",
      "source": [
        "dp = 150"
      ],
      "metadata": {
        "id": "D1yGN2m4yvDc"
      },
      "execution_count": 252,
      "outputs": []
    },
    {
      "cell_type": "code",
      "source": [
        "n = 20"
      ],
      "metadata": {
        "id": "VSQmjUhYyzcs"
      },
      "execution_count": 253,
      "outputs": []
    },
    {
      "cell_type": "code",
      "source": [
        "raiz_de_n = np.sqrt(n)\n",
        "raiz_de_n"
      ],
      "metadata": {
        "colab": {
          "base_uri": "https://localhost:8080/"
        },
        "id": "PENDPssXyzks",
        "outputId": "dc9e874a-1716-4447-8e81-deaf0078841d"
      },
      "execution_count": 254,
      "outputs": [
        {
          "output_type": "execute_result",
          "data": {
            "text/plain": [
              "4.47213595499958"
            ]
          },
          "metadata": {},
          "execution_count": 254
        }
      ]
    },
    {
      "cell_type": "code",
      "source": [
        "sigma = dp / raiz_de_n\n",
        "sigma"
      ],
      "metadata": {
        "colab": {
          "base_uri": "https://localhost:8080/"
        },
        "id": "gVZ6c2Usyzqy",
        "outputId": "f3e0ce1f-daee-4493-bd64-18add5a0ca04"
      },
      "execution_count": 255,
      "outputs": [
        {
          "output_type": "execute_result",
          "data": {
            "text/plain": [
              "33.54101966249684"
            ]
          },
          "metadata": {},
          "execution_count": 255
        }
      ]
    },
    {
      "cell_type": "code",
      "source": [
        "e = z * sigma\n",
        "e #erro inferencial"
      ],
      "metadata": {
        "colab": {
          "base_uri": "https://localhost:8080/"
        },
        "id": "fz3LUd2Uyzvl",
        "outputId": "db8ebb3e-e922-46a7-99be-4ac3391ba1bf"
      },
      "execution_count": 256,
      "outputs": [
        {
          "output_type": "execute_result",
          "data": {
            "text/plain": [
              "65.73919054324361"
            ]
          },
          "metadata": {},
          "execution_count": 256
        }
      ]
    },
    {
      "cell_type": "code",
      "source": [
        "intervalo = (media_amostral - e, media_amostral + e)\n",
        "intervalo"
      ],
      "metadata": {
        "colab": {
          "base_uri": "https://localhost:8080/"
        },
        "id": "zlp0ksgFzQA4",
        "outputId": "1857f956-863a-4329-93f5-bbff5313efab"
      },
      "execution_count": 257,
      "outputs": [
        {
          "output_type": "execute_result",
          "data": {
            "text/plain": [
              "(4984.260809456757, 5115.739190543243)"
            ]
          },
          "metadata": {},
          "execution_count": 257
        }
      ]
    },
    {
      "cell_type": "code",
      "source": [
        "norm.interval(alpha=0.95, loc=media_amostral, scale=sigma)"
      ],
      "metadata": {
        "colab": {
          "base_uri": "https://localhost:8080/"
        },
        "id": "WFYRJqQBzbWP",
        "outputId": "92997c5b-606c-438f-a91c-eaee6ada0833"
      },
      "execution_count": 259,
      "outputs": [
        {
          "output_type": "stream",
          "name": "stderr",
          "text": [
            "<ipython-input-259-28f5139aa5ae>:1: DeprecationWarning: Use of keyword argument 'alpha' for method 'interval' is deprecated and wil be removed in SciPy 1.11.0. Use first positional argument or keyword argument 'confidence' instead.\n",
            "  norm.interval(alpha=0.95, loc=media_amostral, scale=sigma)\n"
          ]
        },
        {
          "output_type": "execute_result",
          "data": {
            "text/plain": [
              "(4984.260809456757, 5115.739190543243)"
            ]
          },
          "metadata": {},
          "execution_count": 259
        }
      ]
    }
  ]
}